{
 "cells": [
  {
   "cell_type": "markdown",
   "metadata": {},
   "source": [
    "# Hybrid: V10\n",
    "## SD: model V15\n",
    "## NetLogo: V21\n",
    "## Python: V6"
   ]
  },
  {
   "cell_type": "code",
   "execution_count": 1,
   "metadata": {
    "collapsed": true
   },
   "outputs": [],
   "source": [
    "%matplotlib inline\n",
    "\n",
    "import numpy as np\n",
    "import pandas as pd\n",
    "import matplotlib.pyplot as plt\n",
    "import pysd\n",
    "import pyNetLogo"
   ]
  },
  {
   "cell_type": "markdown",
   "metadata": {},
   "source": [
    "# Defining the Hybridmodel"
   ]
  },
  {
   "cell_type": "code",
   "execution_count": 2,
   "metadata": {
    "collapsed": true
   },
   "outputs": [],
   "source": [
    "def runnetlogo(agent_gas, netlogo):\n",
    "    netlogo.write_NetLogo_attriblist(agent_gas[['who','GS', 'PP']], 'country')\n",
    "    netlogo.command('repeat 1 [go]')\n",
    "    \n",
    "    Gasimport = []\n",
    "    Gasexport = []\n",
    "    \n",
    "    Gasimport.append(netlogo.report('importA'))\n",
    "    Gasimport.append(netlogo.report('importB'))\n",
    "    Gasimport.append(netlogo.report('importC'))\n",
    "    Gasimport.append(netlogo.report('importD'))\n",
    "    Gasimport.append(netlogo.report('importE'))\n",
    "    Gasimport.append(netlogo.report('importF'))\n",
    "    \n",
    "    Gasexport.append(netlogo.report('exportA'))\n",
    "    Gasexport.append(netlogo.report('exportB'))\n",
    "    Gasexport.append(netlogo.report('exportC'))\n",
    "    Gasexport.append(netlogo.report('exportD'))\n",
    "    Gasexport.append(netlogo.report('exportE'))\n",
    "    Gasexport.append(netlogo.report('exportF'))\n",
    "    \n",
    "    return Gasimport, Gasexport"
   ]
  },
  {
   "cell_type": "code",
   "execution_count": 3,
   "metadata": {
    "collapsed": true
   },
   "outputs": [],
   "source": [
    "def updatedicts(Input, results, importtot, exporttot, x, dealtime):\n",
    "    \n",
    "    Input['\"Initial extraction capacity in preparation - Gas\"'] = results['\"Extraction capacity in preparation - Gas\"'].values[x]\n",
    "    Input['\"Initial extraction capacity - Gas\"'] = results['\"Extraction capacity installed - Gas\"'].values[x]\n",
    "    Input['\"Initial mothballed capacity - Gas\"'] = results['\"Mothballed capacity - Gas\"'].values[x]\n",
    "    Input['\"Initial Undiscovered resources - Gas\"'] = results['\"Undiscovered resources - Gas\"'].values[x]\n",
    "    Input['\"Initial reserve base - Gas\"'] = results['\"Discovered resources reserve base - Gas\"'].values[x]\n",
    "                  \n",
    "    Input['\"Initial extraction capacity in preparation - Oil\"'] = results['\"Extraction capacity in preparation - Oil\"'].values[x]\n",
    "    Input['\"Initial extraction capacity - Oil\"'] = results['\"Extraction capacity installed - Oil\"'].values[x]\n",
    "    Input['\"Initial mothballed capacity - Oil\"'] = results['\"Mothballed capacity - Oil\"'].values[x]\n",
    "    Input['\"Initial Energy stocks - Oil\"'] = results['\"Energy stocks - Oil\"'].values[x]\n",
    "    Input['\"Initial Undiscovered resources - Oil\"'] = results['\"Undiscovered resources - Oil\"'].values[x]\n",
    "    Input['\"Initial reserve base - Oil\"'] = results['\"Discovered resources reserve base - Oil\"'].values[x]\n",
    "              \n",
    "    Input['\"Initial extraction capacity in preparation - Coal\"'] = results['\"Extraction capacity in preparation - Coal\"'].values[x]\n",
    "    Input['\"Initial extraction capacity - Coal\"'] = results['\"Extraction capacity installed - Coal\"'].values[x]\n",
    "    Input['\"Initial mothballed capacity - Coal\"'] = results['\"Mothballed capacity - Coal\"'].values[x]\n",
    "    Input['\"Initial Energy stocks - Coal\"'] = results['\"Energy stocks - Coal\"'].values[x]\n",
    "    Input['\"Initial Undiscovered resources - Coal\"'] = results['\"Undiscovered resources - Coal\"'].values[x]\n",
    "    Input['\"Initial reserve base - Coal\"'] = results['\"Discovered resources reserve base - Coal\"'].values[x]\n",
    "              \n",
    "    Input['\"Initial extraction capacity in preparation- Nuclear\"'] = results['\"Extraction capacity in preparation- Nuclear\"'].values[x]\n",
    "    Input['\"Initial extraction capacity- Nuclear\"'] = results['\"Extraction capacity installed- Nuclear\"'].values[x]\n",
    "    Input['\"Initial mothballed capacity- Nuclear\"'] = results['\"Mothballed capacity- Nuclear\"'].values[x]\n",
    "              \n",
    "    Input['\"Initial extraction capacity in preparation - Biofuels\"'] = results['\"Extraction capacity in preparation - Biofuels\"'].values[x]\n",
    "    Input['\"Initial extraction capacity - Biofuels\"'] = results['\"Extraction capacity installed - Biofuels\"'].values[x]\n",
    "    Input['\"Initial mothballed capacity - Biofuels\"'] = results['\"Mothballed capacity - Biofuels\"'].values[x]\n",
    "    Input['\"Initial Energy stocks - Biofuels\"'] = results['\"Energy stocks - Biofuels\"'].values[x]\n",
    "              \n",
    "    Input['\"Initial extraction capacity in preparation - other Renewables\"'] = results['\"Extraction capacity in preparation - other Renewables\"'].values[x] \n",
    "    Input['\"Initial extraction capacity - other Renewables\"'] = results['\"Extraction capacity installed - other Renewables\"'].values[x]\n",
    "    Input['\"Initial mothballed capacity - other Renewables\"'] = results['\"Mothballed capacity - other Renewables\"'].values[x]\n",
    "           \n",
    "    Input['Initial GDP'] = results['GDP'].values[x]\n",
    "    Input['Initial Energy Intensity GDP'] = results['Energy Intensity GDP'].values[x]\n",
    "    Input['Initial Shortage Effect on Decoupling'] = results['Future Effect of Shortage on Decoupling'].values[x]\n",
    "    Input['Initial Effect of Supply Shortage on Decoupling'] = results['Effect of Supply Shortage on Decoupling'].values[x]\n",
    "\n",
    "    Input['Gas Import'] = importtot \n",
    "    Input['Gas Export'] = exporttot\n",
    "    Input['INITIAL TIME'] = results['TIME'].values[x]\n",
    "    Input['FINAL TIME'] = results['TIME'].values[x]+dealtime\n",
    "                  \n",
    "    return Input"
   ]
  },
  {
   "cell_type": "code",
   "execution_count": 49,
   "metadata": {
    "collapsed": true
   },
   "outputs": [],
   "source": [
    "def hybridloop(years, dealtime, debug):\n",
    "    model = pysd.read_vensim(\"modelV15.mdl\")\n",
    "    netlogo = pyNetLogo.NetLogoLink(gui=False)\n",
    "    netlogo.load_model(r'modelv21.nlogo')\n",
    "    netlogo.command('setup')\n",
    "    \n",
    "    modelinput = pd.read_csv(\"testlanden.csv\")\n",
    "    \n",
    "    ncountries = len(modelinput)\n",
    "    \n",
    "    inputdict = modelinput.to_dict('index')\n",
    "    \n",
    "    resultsnew = []\n",
    "    for i in range(ncountries):\n",
    "        inputdict[i]['FINAL TIME'] = 2010 + dealtime\n",
    "        resultsnew.append(model.run(params = inputdict[i]))\n",
    "    \n",
    "    x = dealtime*16\n",
    "\n",
    "    results = resultsnew\n",
    "    \n",
    "    n = dealtime\n",
    "    while n < years:\n",
    "        \n",
    "        GS = []\n",
    "        for i in range(ncountries):\n",
    "            GS.append(resultsnew[i]['Gas to trade'].values[x])\n",
    "            \n",
    "        if debug > 0:\n",
    "            print(\"Years Modeled = \", n)\n",
    "            print(\"Start Netlogo\")    \n",
    "            print(\"GS = \", GS)\n",
    "        \n",
    "        \n",
    "        gasdata = {'who': [0, 1, 2, 3, 4, 5],\n",
    "                  'GS': GS,\n",
    "                  'PP': [9, 5, 9, 10, 4, 6]}\n",
    "        \n",
    "        agent_gas = pd.DataFrame (gasdata, columns = ['who', 'GS', 'PP'])\n",
    "        \n",
    "        Gasimport, Gasexport = runnetlogo(agent_gas, netlogo)\n",
    "        \n",
    "        if debug > 1:\n",
    "            for i in range(ncountries):\n",
    "                print(\"Country = \", i)\n",
    "                print(\"Import = \", Gasimport[i])\n",
    "                print(\"Export = \", Gasexport[i])\n",
    "                print(\"Start Vensim\")\n",
    "        \n",
    "        \n",
    "        resultsprev = results\n",
    "        results = []\n",
    "        for i in range(ncountries):\n",
    "            inputdict[i] = updatedicts(inputdict[i], resultsnew[i] , Gasimport[i], Gasexport[i], x, dealtime)\n",
    "#             print(resultsprev[0][\"TIME\"])\n",
    "            resultsnew[i] = model.run(params = inputdict[i])\n",
    "#             print(resultsprev[0][\"TIME\"])\n",
    "            resultscomb = [resultsprev[i], resultsnew[i]]\n",
    "            resultscomb = pd.concat(resultscomb)\n",
    "            results.append(resultscomb)\n",
    "\n",
    "        n = n + dealtime\n",
    "        \n",
    "    return results"
   ]
  },
  {
   "cell_type": "markdown",
   "metadata": {},
   "source": [
    "# Running the Model"
   ]
  },
  {
   "cell_type": "code",
   "execution_count": 50,
   "metadata": {
    "scrolled": false
   },
   "outputs": [
    {
     "name": "stderr",
     "output_type": "stream",
     "text": [
      "modelV15.py:1399: RuntimeWarning: invalid value encountered in double_scalars\n",
      "  cumulative_extracted_fuel_t1__other_renewables()) ** experience_curve_parameter_extraction()\n",
      "modelV15.py:1385: RuntimeWarning: invalid value encountered in double_scalars\n",
      "  ) * (cumulative_extracted_fuel__biofuels() / cumulative_extracted_fuel_t1__biofuels())**experience_curve_parameter_extraction()\n",
      "modelV15.py:807: RuntimeWarning: overflow encountered in double_scalars\n",
      "  relative_potential_eroei__other_renewables()\n",
      "C:\\Users\\ludov\\Anaconda32\\lib\\site-packages\\pysd\\functions.py:345: RuntimeWarning: invalid value encountered in double_scalars\n",
      "  return numerator*1.0/denominator\n",
      "modelV15.py:794: RuntimeWarning: overflow encountered in double_scalars\n",
      "  return eroei__biofuels() * change_in_cumulative_extracted_fuel__biofuels() * relative_potential_eroei__biofuels()\n"
     ]
    }
   ],
   "source": [
    "results = hybridloop(40, 5, 0)"
   ]
  },
  {
   "cell_type": "code",
   "execution_count": 46,
   "metadata": {
    "scrolled": true
   },
   "outputs": [
    {
     "data": {
      "text/plain": [
       "<matplotlib.axes._subplots.AxesSubplot at 0xf19a750>"
      ]
     },
     "execution_count": 46,
     "metadata": {},
     "output_type": "execute_result"
    },
    {
     "data": {
      "image/png": "[encoded data removed]",
      "text/plain": [
       "<matplotlib.figure.Figure at 0x166068b0>"
      ]
     },
     "metadata": {},
     "output_type": "display_data"
    }
   ],
   "source": [
    "results[0]['Total Energy Supply'].plot()"
   ]
  },
  {
   "cell_type": "code",
   "execution_count": null,
   "metadata": {
    "collapsed": true
   },
   "outputs": [],
   "source": []
  }
 ],
 "metadata": {
  "kernelspec": {
   "display_name": "Python 3",
   "language": "python",
   "name": "python3"
  },
  "language_info": {
   "codemirror_mode": {
    "name": "ipython",
    "version": 3
   },
   "file_extension": ".py",
   "mimetype": "text/x-python",
   "name": "python",
   "nbconvert_exporter": "python",
   "pygments_lexer": "ipython3",
   "version": "3.6.0"
  }
 },
 "nbformat": 4,
 "nbformat_minor": 2
}
