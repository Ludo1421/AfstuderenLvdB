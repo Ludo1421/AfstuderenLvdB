{
 "cells": [
  {
   "cell_type": "code",
   "execution_count": 1,
   "metadata": {},
   "outputs": [
    {
     "name": "stderr",
     "output_type": "stream",
     "text": [
      "C:\\Users\\ludov\\Anaconda364\\lib\\importlib\\_bootstrap.py:219: ImportWarning: can't resolve package from __spec__ or __package__, falling back on __name__ and __path__\n",
      "  return f(*args, **kwds)\n"
     ]
    }
   ],
   "source": [
    "%matplotlib inline\n",
    "\n",
    "import numpy as np\n",
    "import pandas as pd\n",
    "import matplotlib.pyplot as plt\n",
    "import pysd\n",
    "import pyNetLogo\n",
    "import time\n",
    "import csv\n",
    "from ema_workbench import (Model, RealParameter, IntegerParameter, ScalarOutcome, ema_logging,\n",
    "                           perform_experiments, TimeSeriesOutcome, save_results, MultiprocessingEvaluator,\n",
    "                          CategoricalParameter)\n",
    "from ema_workbench.em_framework.parameters import create_parameters\n",
    "import matplotlib.pyplot as plt\n",
    "from ema_workbench.analysis.plotting import lines, envelopes\n",
    "\n",
    "from HybridmodelV29 import hybridloop"
   ]
  },
  {
   "cell_type": "code",
   "execution_count": 2,
   "metadata": {},
   "outputs": [],
   "source": [
    "hybridmodel = Model('hybridmodel', function=hybridloop)\n",
    "\n",
    "hybridmodel.uncertainties = [IntegerParameter(\"inputpowerfactor\", 15, 25), #7 13\n",
    "                            IntegerParameter(\"inputLNGprice\", 200, 1000),\n",
    "                            IntegerParameter(\"inputtransferprice\", 50, 300),\n",
    "                            IntegerParameter(\"inputCapincrease\", 1000, 3000),\n",
    "                            IntegerParameter(\"inputCapincreasetime\", 1, 2),\n",
    "                            IntegerParameter(\"inputLNGCapincrease\", 1000, 3000),\n",
    "                            IntegerParameter(\"inputLNGCapincreasetime\", 1, 2),\n",
    "#                             RealParameter(\"DemandBalanceSupplyEnergyPrice\", 0.4, 0.7),\n",
    "                            RealParameter(\"MaximumChangeinDemand\", 0.4, 0.7), \n",
    "                            RealParameter(\"SupplyElasticityGas\", 0.06, 0.07),\n",
    "                            RealParameter(\"SupplyElasticityOil\", 0.1, 0.2),\n",
    "                            RealParameter(\"SupplyElasticityCoal\", 0.1, 0.2),\n",
    "                            RealParameter(\"SupplyElasticityNuclear\", 0.007, 0.017),\n",
    "                            RealParameter(\"SupplyElasticityBiofuel\", 0.1, 0.2),\n",
    "                            RealParameter(\"SupplyElasticityOR\", 0.15, 0.3),\n",
    "                            IntegerParameter(\"EconomicGrowthScenario\", 1, 3),\n",
    "                            IntegerParameter(\"EnergyIntensityScenario\", 1, 3),\n",
    "                            RealParameter(\"CO2coal\", 93.46, 113.67),\n",
    "                            RealParameter(\"CO2oil\", 59.58, 102.12),\n",
    "                            RealParameter(\"Variancepower\", -5.0, -0.1),\n",
    "                             \n",
    "                            IntegerParameter(\"POil\", 8900, 9100),\n",
    "                            IntegerParameter(\"PCoal\", 2800, 3100),\n",
    "                            IntegerParameter(\"PBio\", 29000, 32000),\n",
    "                            IntegerParameter(\"PNuc\", 16000, 17000),\n",
    "                            IntegerParameter(\"POR\", 19000, 22000),\n",
    "                            IntegerParameter(\"PGasE\", 6500, 7000),\n",
    "                            IntegerParameter(\"PGasNA\", 2500, 2700),\n",
    "                            IntegerParameter(\"PGasSCA\", 2500, 2700),\n",
    "                            IntegerParameter(\"PGasCIS\", 6500, 7000),\n",
    "                            IntegerParameter(\"PGasME\", 7000, 8000),\n",
    "                            IntegerParameter(\"PGasAF\", 7000, 8000),\n",
    "                            IntegerParameter(\"PGasAP\", 7000, 8000)]\n",
    "\n",
    "hybridmodel.outcomes = [TimeSeriesOutcome(\"EU_GasSup\"),\n",
    "                        TimeSeriesOutcome(\"EU_GasDem\"),\n",
    "                        TimeSeriesOutcome(\"EU_GasCon\"),\n",
    "                        TimeSeriesOutcome(\"EU_OilSup\"),\n",
    "                        TimeSeriesOutcome(\"EU_OilDem\"),\n",
    "                        TimeSeriesOutcome(\"EU_OilCon\"),\n",
    "                        TimeSeriesOutcome(\"EU_CoalSup\"),\n",
    "                        TimeSeriesOutcome(\"EU_CoalDem\"),\n",
    "                        TimeSeriesOutcome(\"EU_CoalCon\"),\n",
    "                        TimeSeriesOutcome(\"EU_NucSup\"),\n",
    "                        TimeSeriesOutcome(\"EU_NucDem\"),\n",
    "#                         TimeSeriesOutcome(\"EU_NucCon\"),\n",
    "                        TimeSeriesOutcome(\"EU_BioSup\"),\n",
    "                        TimeSeriesOutcome(\"EU_BioDem\"),\n",
    "                        TimeSeriesOutcome(\"EU_BioCon\"),\n",
    "                        TimeSeriesOutcome(\"EU_ORSup\"),\n",
    "                        TimeSeriesOutcome(\"EU_ORDem\"),\n",
    "#                         TimeSeriesOutcome(\"EU_ORCon\"),\n",
    "                        TimeSeriesOutcome(\"EU_EDem\"),\n",
    "                        TimeSeriesOutcome(\"EU_ESup\"),\n",
    "                        TimeSeriesOutcome(\"EU_GDP\"),\n",
    "                        TimeSeriesOutcome(\"EU_CO2\"),\n",
    "                        TimeSeriesOutcome(\"EU_RusGas\"),\n",
    "                        TimeSeriesOutcome(\"EU_EUGI\"),\n",
    "                        TimeSeriesOutcome(\"EU_GIC\"),\n",
    "                        TimeSeriesOutcome(\"EU_RGperAG\"),\n",
    "                        TimeSeriesOutcome(\"EU_RGperTES\"),\n",
    "                        TimeSeriesOutcome(\"EU_RGperGC\"),\n",
    "                        TimeSeriesOutcome(\"EU_GICperBBTU\"), \n",
    "                        TimeSeriesOutcome(\"Oil_Price\"),\n",
    "                        TimeSeriesOutcome(\"Coal_Price\"),\n",
    "                        TimeSeriesOutcome(\"Bio_Price\"),\n",
    "                        TimeSeriesOutcome(\"Gas_PriceE\"),\n",
    "                        TimeSeriesOutcome(\"Nuc_PriceE\"),\n",
    "                        TimeSeriesOutcome(\"OR_PriceE\"),\n",
    "                        TimeSeriesOutcome(\"FuncpriceGas\"),\n",
    "                        TimeSeriesOutcome(\"FuncpriceOil\"),\n",
    "                        TimeSeriesOutcome(\"FuncpriceCoal\")]\n",
    "                        \n",
    "\n",
    "hybridmodel.levers = [IntegerParameter(\"EnergyUnion\", 0, 1),\n",
    "                     IntegerParameter(\"CO2Cost\", 0, 1)]"
   ]
  },
  {
   "cell_type": "code",
   "execution_count": 3,
   "metadata": {
    "scrolled": false
   },
   "outputs": [
    {
     "name": "stderr",
     "output_type": "stream",
     "text": [
      "[MainProcess/INFO] pool started\n",
      "[MainProcess/INFO] performing 1 scenarios * 4 policies * 1 model(s) = 4 experiments\n",
      "[MainProcess/INFO] 1 cases completed\n",
      "[MainProcess/INFO] 2 cases completed\n",
      "[MainProcess/INFO] 3 cases completed\n",
      "[MainProcess/INFO] 4 cases completed\n",
      "[MainProcess/INFO] experiments finished\n",
      "[MainProcess/INFO] terminating pool\n"
     ]
    }
   ],
   "source": [
    "ema_logging.log_to_stderr(ema_logging.INFO)\n",
    "with MultiprocessingEvaluator(hybridmodel) as evaluator:\n",
    "    results = evaluator.perform_experiments(scenarios=2500, policies=4, levers_sampling='ff')"
   ]
  },
  {
   "cell_type": "code",
   "execution_count": 4,
   "metadata": {},
   "outputs": [],
   "source": [
    "# save_results(results, r'./1000 runs V30.tar.gz')"
   ]
  }
 ],
 "metadata": {
  "kernelspec": {
   "display_name": "Python 3",
   "language": "python",
   "name": "python3"
  },
  "language_info": {
   "codemirror_mode": {
    "name": "ipython",
    "version": 3
   },
   "file_extension": ".py",
   "mimetype": "text/x-python",
   "name": "python",
   "nbconvert_exporter": "python",
   "pygments_lexer": "ipython3",
   "version": "3.7.0"
  }
 },
 "nbformat": 4,
 "nbformat_minor": 2
}
