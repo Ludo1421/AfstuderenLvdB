{
 "cells": [
  {
   "cell_type": "code",
   "execution_count": 36,
   "metadata": {},
   "outputs": [],
   "source": [
    "%matplotlib inline\n",
    "\n",
    "import numpy as np\n",
    "import pandas as pd\n",
    "import matplotlib.pyplot as plt\n",
    "import pysd\n",
    "import pyNetLogo\n",
    "import time\n",
    "from ema_workbench import (Model, RealParameter, ScalarOutcome, ema_logging,\n",
    "                           perform_experiments, TimeSeriesOutcome)\n",
    "from ema_workbench.em_framework.parameters import create_parameters\n",
    "\n",
    "pd.set_option('display.max_columns', 30000)\n",
    "pd.set_option('display.max_rows', 30000)"
   ]
  },
  {
   "cell_type": "code",
   "execution_count": 55,
   "metadata": {},
   "outputs": [],
   "source": [
    "# The aim of this test is to use a simple vensim model twice and to take the average of the outcome\n",
    "# The simplemodel.mdl simply calculates y = x1*x2-x3\n",
    "# ematest.xlsx contains two different sheets with different ranges for x1, x2 and x3\n",
    "\n",
    "tabbladen = ['Blad1', 'Blad2']\n",
    "\n",
    "testexcel = []\n",
    "for blad in tabbladen:\n",
    "    temppd = pd.read_excel('ematest.xlsx', blad)\n",
    "    testexcel.append(create_parameters(temppd))\n",
    "    \n",
    "\n",
    "def defineinput (x1,x2,x3):\n",
    "    x = 0\n",
    "    return x\n",
    "    \n",
    "inputmodel = Model('inputmodel', function=defineinput)\n",
    "\n",
    "n_experiments = 10\n",
    "\n",
    "fullinput = []\n",
    "for i in range(2):\n",
    "    inputmodel.uncertainties = testexcel[0]\n",
    "    singleinput = perform_experiments(inputmodel, n_experiments)\n",
    "    fullinput.append(singleinput)\n",
    "    \n",
    "fullresults = []\n",
    "for j in range(n_experiments):\n",
    "    \n",
    "    x = ['x1', 'x2', 'x3']\n",
    "\n",
    "    testdict = {}\n",
    "    for n in range(2):\n",
    "        singledict = {}\n",
    "        for var,i in zip(x, range(len(x))):\n",
    "            singledict[var] = fullinput[n][0][j][i]\n",
    "        testdict[n] = singledict\n",
    "    \n",
    "    simplemodel = pysd.read_vensim(\"simplemodel.mdl\")\n",
    "\n",
    "    results = []\n",
    "    for value in testdict.values():\n",
    "        results.append(simplemodel.run(params=value))\n",
    "    \n",
    "    ytotal = 0\n",
    "    for yresult in results:\n",
    "        y = yresult['y'][0]\n",
    "        ytotal += y\n",
    "\n",
    "    yavg = ytotal / len(results)\n",
    "    fullresults.append(yavg)"
   ]
  },
  {
   "cell_type": "code",
   "execution_count": 61,
   "metadata": {},
   "outputs": [
    {
     "data": {
      "text/plain": [
       "{'y': [-0.004309788799375742,\n",
       "  -0.012083188343999032,\n",
       "  0.015252740757848517,\n",
       "  0.021411656105106973,\n",
       "  0.006323081474131839,\n",
       "  0.02134971282962175,\n",
       "  0.0005907733483789136,\n",
       "  -0.03305381259135524,\n",
       "  -0.0002940702621004013,\n",
       "  -0.00998217860509921]}"
      ]
     },
     "execution_count": 61,
     "metadata": {},
     "output_type": "execute_result"
    }
   ],
   "source": [
    "a = {'y': fullresults}\n",
    "a"
   ]
  },
  {
   "cell_type": "code",
   "execution_count": null,
   "metadata": {},
   "outputs": [],
   "source": []
  }
 ],
 "metadata": {
  "kernelspec": {
   "display_name": "Python 3",
   "language": "python",
   "name": "python3"
  },
  "language_info": {
   "codemirror_mode": {
    "name": "ipython",
    "version": 3
   },
   "file_extension": ".py",
   "mimetype": "text/x-python",
   "name": "python",
   "nbconvert_exporter": "python",
   "pygments_lexer": "ipython3",
   "version": "3.7.0"
  }
 },
 "nbformat": 4,
 "nbformat_minor": 2
}
