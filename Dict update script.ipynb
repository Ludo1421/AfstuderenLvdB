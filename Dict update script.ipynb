{
 "cells": [
  {
   "cell_type": "code",
   "execution_count": 6,
   "metadata": {
    "scrolled": true
   },
   "outputs": [],
   "source": [
    "%matplotlib inline\n",
    "\n",
    "import numpy as np\n",
    "import pandas as pd\n",
    "import matplotlib.pyplot as plt\n",
    "import pysd\n",
    "import pyNetLogo\n",
    "import time"
   ]
  },
  {
   "cell_type": "code",
   "execution_count": 7,
   "metadata": {},
   "outputs": [],
   "source": [
    "listofcolumnsresults = ['\"Extraction capacity in preparation - Gas\"', \n",
    "                        '\"Extraction capacity installed - Gas\"',\n",
    "                        '\"Mothballed capacity - Gas\"',\n",
    "                        '\"Undiscovered resources - Gas\"',\n",
    "                        '\"Discovered resources reserve base - Gas\"',\n",
    "                        '\"Extraction capacity in preparation - Oil\"',\n",
    "                        '\"Extraction capacity installed - Oil\"',\n",
    "                        '\"Mothballed capacity - Oil\"',\n",
    "                        '\"Energy stocks - Oil\"',\n",
    "                        '\"Undiscovered resources - Oil\"',\n",
    "                        '\"Discovered resources reserve base - Oil\"',\n",
    "                        '\"Extraction capacity in preparation - Coal\"',\n",
    "                        '\"Extraction capacity installed - Coal\"',\n",
    "                        '\"Mothballed capacity - Coal\"',\n",
    "                        '\"Energy stocks - Coal\"',\n",
    "                        '\"Undiscovered resources - Coal\"',\n",
    "                        '\"Discovered resources reserve base - Coal\"',\n",
    "                        '\"Extraction capacity in preparation- Nuclear\"',\n",
    "                        '\"Extraction capacity installed- Nuclear\"',\n",
    "                        '\"Mothballed capacity- Nuclear\"',\n",
    "                        '\"Extraction capacity in preparation - Biofuels\"',\n",
    "                        '\"Extraction capacity installed - Biofuels\"',\n",
    "                        '\"Mothballed capacity - Biofuels\"',\n",
    "                        '\"Energy stocks - Biofuels\"',\n",
    "                        '\"Extraction capacity in preparation - other Renewables\"',\n",
    "                        '\"Extraction capacity installed - other Renewables\"',\n",
    "                        '\"Mothballed capacity - other Renewables\"',\n",
    "                        'GDP',\n",
    "                        'Energy Intensity GDP',\n",
    "                        'Future Effect of Shortage on Decoupling',\n",
    "                        'Effect of Supply Shortage on Decoupling',\n",
    "                        'TIME']\n",
    "\n",
    "listofcolumnsinput = ['\"Initial extraction capacity in preparation - Gas\"', \n",
    "                        '\"Initial extraction capacity - Gas\"',\n",
    "                        '\"Initial mothballed capacity - Gas\"',\n",
    "                        '\"Initial Undiscovered resources - Gas\"',\n",
    "                        '\"Initial reserve base - Gas\"',\n",
    "                        '\"Initial extraction capacity in preparation - Oil\"',\n",
    "                        '\"Initial extraction capacity - Oil\"',\n",
    "                        '\"Initial mothballed capacity - Oil\"',\n",
    "                        '\"Initial Energy stocks - Oil\"',\n",
    "                        '\"Initial Undiscovered resources - Oil\"',\n",
    "                        '\"Initial reserve base - Oil\"',\n",
    "                        '\"Initial extraction capacity in preparation - Coal\"',\n",
    "                        '\"Initial extraction capacity - Coal\"',\n",
    "                        '\"Initial mothballed capacity - Coal\"',\n",
    "                        '\"Initial Energy stocks - Coal\"',\n",
    "                        '\"Initial Undiscovered resources - Coal\"',\n",
    "                        '\"Initial reserve base - Coal\"',\n",
    "                        '\"Initial extraction capacity in preparation- Nuclear\"',\n",
    "                        '\"Initial extraction capacity- Nuclear\"',\n",
    "                        '\"Initial mothballed capacity- Nuclear\"',\n",
    "                        '\"Initial extraction capacity in preparation - Biofuels\"',\n",
    "                        '\"Initial extraction capacity - Biofuels\"',\n",
    "                        '\"Initial mothballed capacity - Biofuels\"',\n",
    "                        '\"Initial Energy stocks - Biofuels\"',\n",
    "                        '\"Initial extraction capacity in preparation - other Renewables\"',\n",
    "                        '\"Initial extraction capacity - other Renewables\"',\n",
    "                        '\"Initial mothballed capacity - other Renewables\"',\n",
    "                        'Initial GDP',\n",
    "                        'Initial Energy Intensity GDP',\n",
    "                        'Initial Shortage Effect on Decoupling',\n",
    "                        'Initial Effect of Supply Shortage on Decoupling',\n",
    "                        'INITIAL TIME']"
   ]
  },
  {
   "cell_type": "markdown",
   "metadata": {},
   "source": [
    "# Without functions"
   ]
  },
  {
   "cell_type": "code",
   "execution_count": null,
   "metadata": {
    "collapsed": true
   },
   "outputs": [],
   "source": [
    "dealtime = 10\n",
    "x = dealtime*16\n",
    "sd_model = pysd.read_vensim(\"modelV15.mdl\")\n",
    "modelinput = pd.read_csv(\"testlanden.csv\")\n",
    "ncountries = len(modelinput)\n",
    "inputdict = modelinput.to_dict('index')\n",
    "resultsnew = []\n",
    "for value in inputdict.values():\n",
    "    value['FINAL TIME'] = 2010 + dealtime\n",
    "    resultsnew.append(sd_model.run(params=value))"
   ]
  },
  {
   "cell_type": "code",
   "execution_count": null,
   "metadata": {},
   "outputs": [],
   "source": [
    "finalvalues = []\n",
    "for singleresult in resultsnew:\n",
    "    finalvalues.append(singleresult.ix[[x], listofcolumnsresults])"
   ]
  },
  {
   "cell_type": "code",
   "execution_count": null,
   "metadata": {},
   "outputs": [],
   "source": [
    "dictlist = []\n",
    "for valueset in finalvalues:\n",
    "    newdict = valueset.to_dict('records')[0]\n",
    "    for k_results, k_input in zip(listofcolumnsresults, listofcolumnsinput):\n",
    "        newdict[k_input] = newdict.pop(k_results)\n",
    "    dictlist.append(newdict)"
   ]
  },
  {
   "cell_type": "code",
   "execution_count": null,
   "metadata": {
    "collapsed": true
   },
   "outputs": [],
   "source": [
    "dictdict = {}\n",
    "for i in range(ncountries):\n",
    "    dictdict.update({i:{}})\n",
    "\n",
    "dictdict = {key:dictlist[i] for (key, value), i in zip(dictdict.items(), range(ncountries))}"
   ]
  },
  {
   "cell_type": "code",
   "execution_count": null,
   "metadata": {},
   "outputs": [],
   "source": [
    "resultsnew2 = []\n",
    "for value in dictdict.values():\n",
    "    value['FINAL TIME'] = value['INITIAL TIME'] + dealtime\n",
    "    resultsnew2.append(sd_model.run(params=value))"
   ]
  },
  {
   "cell_type": "code",
   "execution_count": null,
   "metadata": {},
   "outputs": [],
   "source": [
    "combresults = []\n",
    "combresults.append(resultsnew)\n",
    "combresults.append(resultsnew2)\n",
    "\n",
    "results = [pd.concat([entry[n] for entry in combresults]) for n in range(ncountries)]"
   ]
  },
  {
   "cell_type": "markdown",
   "metadata": {},
   "source": [
    "# With functions"
   ]
  },
  {
   "cell_type": "code",
   "execution_count": null,
   "metadata": {},
   "outputs": [],
   "source": [
    "def runmodelsnoloop(years, dealtime):\n",
    "    \n",
    "    sd_model = pysd.read_vensim(\"modelV15.mdl\")\n",
    "    modelinput = pd.read_csv(\"testlanden.csv\")\n",
    "\n",
    "    ncountries = len(modelinput)\n",
    "    x = dealtime*16\n",
    "    inputdict = modelinput.to_dict('index')\n",
    "\n",
    "    resultsnew = []\n",
    "    for value in inputdict.values():\n",
    "#         value['INITIAL TIME'] = inittime\n",
    "        value['FINAL TIME'] = 2010 + dealtime\n",
    "        resultsnew.append(sd_model.run(params=value))\n",
    "    \n",
    "#     Loop start\n",
    "    \n",
    "    finalvalues = []\n",
    "    for singleresult in resultsnew:\n",
    "        finalvalues.append(singleresult.ix[[x], listofcolumnsresults])\n",
    "    \n",
    "    dictlist = []\n",
    "    for valueset in finalvalues:\n",
    "        newdict = valueset.to_dict('records')[0]\n",
    "        for k_results, k_input in zip(listofcolumnsresults, listofcolumnsinput):\n",
    "            newdict[k_input] = newdict.pop(k_results)\n",
    "        dictlist.append(newdict)\n",
    "    \n",
    "    dictdict = {}\n",
    "    for i in range(ncountries):\n",
    "        dictdict.update({i:{}})\n",
    "        \n",
    "#         print(i)\n",
    "        \n",
    "#     print(len(dictlist))\n",
    "    \n",
    "    dictdict = {key:dictlist[i] for (key, value), i in zip(dictdict.items(), range(ncountries))}\n",
    "    \n",
    "    resultsnew2 = []\n",
    "    for value in dictdict.values():\n",
    "        value['FINAL TIME'] = value['INITIAL TIME'] + dealtime\n",
    "        resultsnew2.append(sd_model.run(params=value))\n",
    "        \n",
    "    combresults = []\n",
    "    combresults.append(resultsnew)\n",
    "    combresults.append(resultsnew2)\n",
    "\n",
    "    results = [pd.concat([entry[n] for entry in combresults]) for n in range(ncountries)]\n",
    "    \n",
    "    return results"
   ]
  },
  {
   "cell_type": "code",
   "execution_count": null,
   "metadata": {},
   "outputs": [],
   "source": [
    "def runmodelswithloop(years, dealtime):\n",
    "    \n",
    "    sd_model = pysd.read_vensim(\"modelV15.mdl\")\n",
    "    modelinput = pd.read_csv(\"testlanden.csv\")\n",
    "\n",
    "    ncountries = len(modelinput)\n",
    "    x = dealtime*16\n",
    "    inputdict = modelinput.to_dict('index')\n",
    "\n",
    "    resultsnew = []\n",
    "    for value in inputdict.values():\n",
    "        value['FINAL TIME'] = 2010 + dealtime\n",
    "        resultsnew.append(sd_model.run(params=value))\n",
    "    \n",
    "    combresults = [resultsnew]\n",
    "    for n in range(dealtime, years, dealtime):\n",
    "    \n",
    "        finalvalues = []\n",
    "        for singleresult in resultsnew:\n",
    "            finalvalues.append(singleresult.ix[[x], listofcolumnsresults])\n",
    "    \n",
    "        dictlist = []\n",
    "        for valueset in finalvalues:\n",
    "            newdict = valueset.to_dict('records')[0]\n",
    "            for k_results, k_input in zip(listofcolumnsresults, listofcolumnsinput):\n",
    "                newdict[k_input] = newdict.pop(k_results)\n",
    "            dictlist.append(newdict)\n",
    "    \n",
    "        dictdict = {}\n",
    "        for i in range(ncountries):\n",
    "            dictdict.update({i:{}})\n",
    "\n",
    "        dictdict = {key:dictlist[i] for (key, value), i in zip(dictdict.items(), range(ncountries))}\n",
    "    \n",
    "        resultsnew = []\n",
    "        for value in dictdict.values():\n",
    "            value['FINAL TIME'] = value['INITIAL TIME'] + dealtime\n",
    "            resultsnew.append(sd_model.run(params=value))\n",
    "        \n",
    "        combresults.append(resultsnew)\n",
    "\n",
    "    results = [pd.concat([entry[n] for entry in combresults]) for n in range(ncountries)]\n",
    "    \n",
    "    return results"
   ]
  },
  {
   "cell_type": "code",
   "execution_count": 8,
   "metadata": {},
   "outputs": [],
   "source": [
    "def runnetlogo(agent_gas, netlogo):\n",
    "    netlogo.write_NetLogo_attriblist(agent_gas[['who','GS', 'PP']], 'country')\n",
    "    netlogo.command('repeat 1 [go]')\n",
    "    \n",
    "    Gasimport = []\n",
    "    Gasexport = []\n",
    "    \n",
    "    Gasimport.append(netlogo.report('importA'))\n",
    "    Gasimport.append(netlogo.report('importB'))\n",
    "    Gasimport.append(netlogo.report('importC'))\n",
    "    Gasimport.append(netlogo.report('importD'))\n",
    "    Gasimport.append(netlogo.report('importE'))\n",
    "    Gasimport.append(netlogo.report('importF'))\n",
    "    \n",
    "    Gasexport.append(netlogo.report('exportA'))\n",
    "    Gasexport.append(netlogo.report('exportB'))\n",
    "    Gasexport.append(netlogo.report('exportC'))\n",
    "    Gasexport.append(netlogo.report('exportD'))\n",
    "    Gasexport.append(netlogo.report('exportE'))\n",
    "    Gasexport.append(netlogo.report('exportF'))\n",
    "    \n",
    "    return Gasimport, Gasexport"
   ]
  },
  {
   "cell_type": "code",
   "execution_count": 9,
   "metadata": {
    "scrolled": false
   },
   "outputs": [],
   "source": [
    "def hybridloop(years, dealtime):\n",
    "    \n",
    "    sd_model = pysd.read_vensim(\"modelV15.mdl\")\n",
    "    netlogo = pyNetLogo.NetLogoLink(gui=False)\n",
    "    netlogo.load_model(r'modelv21.nlogo')\n",
    "    netlogo.command('setup')\n",
    "    modelinput = pd.read_csv(\"testlanden.csv\")\n",
    "\n",
    "    ncountries = len(modelinput)\n",
    "    x = dealtime*16\n",
    "    inputdict = modelinput.to_dict('index')\n",
    "\n",
    "    resultsnew = []\n",
    "    for value in inputdict.values():\n",
    "        value['FINAL TIME'] = 2010 + dealtime\n",
    "        resultsnew.append(sd_model.run(params=value))\n",
    "    \n",
    "    combresults = [resultsnew]\n",
    "    for n in range(dealtime, years, dealtime):\n",
    "    \n",
    "        GS = []\n",
    "        for country in resultsnew:\n",
    "            GS.append(country['Gas to trade'].values[x])\n",
    "            \n",
    "        gasdata = {'who': [0, 1, 2, 3, 4, 5],\n",
    "                   'GS': GS,\n",
    "                   'PP': [9, 5, 9, 10, 4, 6]}\n",
    "    \n",
    "        agent_gas = pd.DataFrame (gasdata, columns=['who', 'GS', 'PP'])\n",
    "        \n",
    "        Gasimport, Gasexport = runnetlogo(agent_gas, netlogo)    \n",
    "    \n",
    "        finalvalues = []\n",
    "        for singleresult in resultsnew:\n",
    "            finalvalues.append(singleresult.ix[[x], listofcolumnsresults])\n",
    "    \n",
    "        dictlist = []\n",
    "        for valueset in finalvalues:\n",
    "            newdict = valueset.to_dict('records')[0]\n",
    "            for k_results, k_input in zip(listofcolumnsresults, listofcolumnsinput):\n",
    "                newdict[k_input] = newdict.pop(k_results)\n",
    "            dictlist.append(newdict)\n",
    "    \n",
    "        dictdict = {}\n",
    "        for i in range(ncountries):\n",
    "            dictdict.update({i:{}})\n",
    "\n",
    "        dictdict = {key:dictlist[i] for (key, value), i in zip(dictdict.items(), range(ncountries))}\n",
    "    \n",
    "        resultsnew = []\n",
    "        for value, gi, ge in zip(dictdict.values(), Gasimport, Gasexport):\n",
    "            value['FINAL TIME'] = value['INITIAL TIME'] + dealtime\n",
    "            value['Gas Import'] = gi\n",
    "            value['Gas Export'] = ge\n",
    "            resultsnew.append(sd_model.run(params=value))\n",
    "        \n",
    "        combresults.append(resultsnew)\n",
    "\n",
    "    results = [pd.concat([entry[n] for entry in combresults]) for n in range(ncountries)]\n",
    "    \n",
    "    return results"
   ]
  },
  {
   "cell_type": "code",
   "execution_count": 10,
   "metadata": {},
   "outputs": [
    {
     "ename": "IncompleteParseError",
     "evalue": "Rule 'rules' matched in its entirety, but it didn't consume all the text. The non-matching portion of the text begins with '\\ costs\\ relative\\ i' (line 20, column 25).",
     "output_type": "error",
     "traceback": [
      "\u001b[1;31m---------------------------------------------------------------------------\u001b[0m",
      "\u001b[1;31mIncompleteParseError\u001b[0m                      Traceback (most recent call last)",
      "\u001b[1;32m<ipython-input-10-0c11116773c6>\u001b[0m in \u001b[0;36m<module>\u001b[1;34m()\u001b[0m\n\u001b[0;32m      1\u001b[0m \u001b[0mstarttime\u001b[0m \u001b[1;33m=\u001b[0m \u001b[0mtime\u001b[0m\u001b[1;33m.\u001b[0m\u001b[0mtime\u001b[0m\u001b[1;33m(\u001b[0m\u001b[1;33m)\u001b[0m\u001b[1;33m\u001b[0m\u001b[0m\n\u001b[1;32m----> 2\u001b[1;33m \u001b[0mresults\u001b[0m \u001b[1;33m=\u001b[0m \u001b[0mhybridloop\u001b[0m\u001b[1;33m(\u001b[0m\u001b[1;36m40\u001b[0m\u001b[1;33m,\u001b[0m \u001b[1;36m5\u001b[0m\u001b[1;33m)\u001b[0m\u001b[1;33m\u001b[0m\u001b[0m\n\u001b[0m\u001b[0;32m      3\u001b[0m \u001b[0mendtime\u001b[0m \u001b[1;33m=\u001b[0m \u001b[0mtime\u001b[0m\u001b[1;33m.\u001b[0m\u001b[0mtime\u001b[0m\u001b[1;33m(\u001b[0m\u001b[1;33m)\u001b[0m\u001b[1;33m\u001b[0m\u001b[0m\n\u001b[0;32m      4\u001b[0m \u001b[0melapsedtime\u001b[0m \u001b[1;33m=\u001b[0m \u001b[0mendtime\u001b[0m \u001b[1;33m-\u001b[0m \u001b[0mstarttime\u001b[0m\u001b[1;33m\u001b[0m\u001b[0m\n\u001b[0;32m      5\u001b[0m \u001b[0melapsedtime\u001b[0m\u001b[1;33m\u001b[0m\u001b[0m\n",
      "\u001b[1;32m<ipython-input-9-47b4e47f9aa7>\u001b[0m in \u001b[0;36mhybridloop\u001b[1;34m(years, dealtime)\u001b[0m\n\u001b[0;32m      1\u001b[0m \u001b[1;32mdef\u001b[0m \u001b[0mhybridloop\u001b[0m\u001b[1;33m(\u001b[0m\u001b[0myears\u001b[0m\u001b[1;33m,\u001b[0m \u001b[0mdealtime\u001b[0m\u001b[1;33m)\u001b[0m\u001b[1;33m:\u001b[0m\u001b[1;33m\u001b[0m\u001b[0m\n\u001b[0;32m      2\u001b[0m \u001b[1;33m\u001b[0m\u001b[0m\n\u001b[1;32m----> 3\u001b[1;33m     \u001b[0msd_model\u001b[0m \u001b[1;33m=\u001b[0m \u001b[0mpysd\u001b[0m\u001b[1;33m.\u001b[0m\u001b[0mread_vensim\u001b[0m\u001b[1;33m(\u001b[0m\u001b[1;34m\"modelV15.mdl\"\u001b[0m\u001b[1;33m)\u001b[0m\u001b[1;33m\u001b[0m\u001b[0m\n\u001b[0m\u001b[0;32m      4\u001b[0m     \u001b[0mnetlogo\u001b[0m \u001b[1;33m=\u001b[0m \u001b[0mpyNetLogo\u001b[0m\u001b[1;33m.\u001b[0m\u001b[0mNetLogoLink\u001b[0m\u001b[1;33m(\u001b[0m\u001b[0mgui\u001b[0m\u001b[1;33m=\u001b[0m\u001b[1;32mFalse\u001b[0m\u001b[1;33m)\u001b[0m\u001b[1;33m\u001b[0m\u001b[0m\n\u001b[0;32m      5\u001b[0m     \u001b[0mnetlogo\u001b[0m\u001b[1;33m.\u001b[0m\u001b[0mload_model\u001b[0m\u001b[1;33m(\u001b[0m\u001b[1;34mr'modelv21.nlogo'\u001b[0m\u001b[1;33m)\u001b[0m\u001b[1;33m\u001b[0m\u001b[0m\n",
      "\u001b[1;32m~\\Anaconda364\\lib\\site-packages\\pysd\\pysd.py\u001b[0m in \u001b[0;36mread_vensim\u001b[1;34m(mdl_file)\u001b[0m\n\u001b[0;32m     44\u001b[0m     \u001b[1;32mfrom\u001b[0m \u001b[1;33m.\u001b[0m\u001b[0mpy_backend\u001b[0m\u001b[1;33m.\u001b[0m\u001b[0mvensim\u001b[0m\u001b[1;33m.\u001b[0m\u001b[0mvensim2py\u001b[0m \u001b[1;32mimport\u001b[0m \u001b[0mtranslate_vensim\u001b[0m\u001b[1;33m\u001b[0m\u001b[0m\n\u001b[0;32m     45\u001b[0m     \u001b[1;32mfrom\u001b[0m \u001b[1;33m.\u001b[0m\u001b[0mpy_backend\u001b[0m \u001b[1;32mimport\u001b[0m \u001b[0mfunctions\u001b[0m\u001b[1;33m\u001b[0m\u001b[0m\n\u001b[1;32m---> 46\u001b[1;33m     \u001b[0mpy_model_file\u001b[0m \u001b[1;33m=\u001b[0m \u001b[0mtranslate_vensim\u001b[0m\u001b[1;33m(\u001b[0m\u001b[0mmdl_file\u001b[0m\u001b[1;33m)\u001b[0m\u001b[1;33m\u001b[0m\u001b[0m\n\u001b[0m\u001b[0;32m     47\u001b[0m     \u001b[0mmodel\u001b[0m \u001b[1;33m=\u001b[0m \u001b[0mfunctions\u001b[0m\u001b[1;33m.\u001b[0m\u001b[0mModel\u001b[0m\u001b[1;33m(\u001b[0m\u001b[0mpy_model_file\u001b[0m\u001b[1;33m)\u001b[0m\u001b[1;33m\u001b[0m\u001b[0m\n\u001b[0;32m     48\u001b[0m     \u001b[0mmodel\u001b[0m\u001b[1;33m.\u001b[0m\u001b[0mmdl_file\u001b[0m \u001b[1;33m=\u001b[0m \u001b[0mmdl_file\u001b[0m\u001b[1;33m\u001b[0m\u001b[0m\n",
      "\u001b[1;32m~\\Anaconda364\\lib\\site-packages\\pysd\\py_backend\\vensim\\vensim2py.py\u001b[0m in \u001b[0;36mtranslate_vensim\u001b[1;34m(mdl_file)\u001b[0m\n\u001b[0;32m    898\u001b[0m \u001b[1;33m\u001b[0m\u001b[0m\n\u001b[0;32m    899\u001b[0m     \u001b[1;32mfor\u001b[0m \u001b[0msection\u001b[0m \u001b[1;32min\u001b[0m \u001b[0mfile_sections\u001b[0m\u001b[1;33m:\u001b[0m\u001b[1;33m\u001b[0m\u001b[0m\n\u001b[1;32m--> 900\u001b[1;33m         \u001b[0mtranslate_section\u001b[0m\u001b[1;33m(\u001b[0m\u001b[0msection\u001b[0m\u001b[1;33m,\u001b[0m \u001b[0mmacro_list\u001b[0m\u001b[1;33m)\u001b[0m\u001b[1;33m\u001b[0m\u001b[0m\n\u001b[0m\u001b[0;32m    901\u001b[0m \u001b[1;33m\u001b[0m\u001b[0m\n\u001b[0;32m    902\u001b[0m     \u001b[1;32mreturn\u001b[0m \u001b[0moutfile_name\u001b[0m\u001b[1;33m\u001b[0m\u001b[0m\n",
      "\u001b[1;32m~\\Anaconda364\\lib\\site-packages\\pysd\\py_backend\\vensim\\vensim2py.py\u001b[0m in \u001b[0;36mtranslate_section\u001b[1;34m(section, macro_list)\u001b[0m\n\u001b[0;32m    841\u001b[0m                                                                   \u001b[0mnamespace\u001b[0m\u001b[1;33m=\u001b[0m\u001b[0mnamespace\u001b[0m\u001b[1;33m,\u001b[0m\u001b[1;33m\u001b[0m\u001b[0m\n\u001b[0;32m    842\u001b[0m                                                                   \u001b[0msubscript_dict\u001b[0m\u001b[1;33m=\u001b[0m\u001b[0msubscript_dict\u001b[0m\u001b[1;33m,\u001b[0m\u001b[1;33m\u001b[0m\u001b[0m\n\u001b[1;32m--> 843\u001b[1;33m                                                                   macro_list=macro_list)\n\u001b[0m\u001b[0;32m    844\u001b[0m             \u001b[0melement\u001b[0m\u001b[1;33m.\u001b[0m\u001b[0mupdate\u001b[0m\u001b[1;33m(\u001b[0m\u001b[0mtranslation\u001b[0m\u001b[1;33m)\u001b[0m\u001b[1;33m\u001b[0m\u001b[0m\n\u001b[0;32m    845\u001b[0m             \u001b[0mmodel_elements\u001b[0m \u001b[1;33m+=\u001b[0m \u001b[0mnew_structure\u001b[0m\u001b[1;33m\u001b[0m\u001b[0m\n",
      "\u001b[1;32m~\\Anaconda364\\lib\\site-packages\\pysd\\py_backend\\vensim\\vensim2py.py\u001b[0m in \u001b[0;36mparse_general_expression\u001b[1;34m(element, namespace, subscript_dict, macro_list)\u001b[0m\n\u001b[0;32m    750\u001b[0m             \u001b[1;32mreturn\u001b[0m \u001b[1;34m''\u001b[0m\u001b[1;33m.\u001b[0m\u001b[0mjoin\u001b[0m\u001b[1;33m(\u001b[0m\u001b[0mfilter\u001b[0m\u001b[1;33m(\u001b[0m\u001b[1;32mNone\u001b[0m\u001b[1;33m,\u001b[0m \u001b[0mvc\u001b[0m\u001b[1;33m)\u001b[0m\u001b[1;33m)\u001b[0m \u001b[1;32mor\u001b[0m \u001b[0mn\u001b[0m\u001b[1;33m.\u001b[0m\u001b[0mtext\u001b[0m\u001b[1;33m\u001b[0m\u001b[0m\n\u001b[0;32m    751\u001b[0m \u001b[1;33m\u001b[0m\u001b[0m\n\u001b[1;32m--> 752\u001b[1;33m     \u001b[0mparser\u001b[0m \u001b[1;33m=\u001b[0m \u001b[0mparsimonious\u001b[0m\u001b[1;33m.\u001b[0m\u001b[0mGrammar\u001b[0m\u001b[1;33m(\u001b[0m\u001b[0mexpression_grammar\u001b[0m\u001b[1;33m)\u001b[0m\u001b[1;33m\u001b[0m\u001b[0m\n\u001b[0m\u001b[0;32m    753\u001b[0m     \u001b[0mtree\u001b[0m \u001b[1;33m=\u001b[0m \u001b[0mparser\u001b[0m\u001b[1;33m.\u001b[0m\u001b[0mparse\u001b[0m\u001b[1;33m(\u001b[0m\u001b[0melement\u001b[0m\u001b[1;33m[\u001b[0m\u001b[1;34m'expr'\u001b[0m\u001b[1;33m]\u001b[0m\u001b[1;33m)\u001b[0m\u001b[1;33m\u001b[0m\u001b[0m\n\u001b[0;32m    754\u001b[0m     \u001b[0mparse_object\u001b[0m \u001b[1;33m=\u001b[0m \u001b[0mExpressionParser\u001b[0m\u001b[1;33m(\u001b[0m\u001b[0mtree\u001b[0m\u001b[1;33m)\u001b[0m\u001b[1;33m\u001b[0m\u001b[0m\n",
      "\u001b[1;32m~\\Anaconda364\\lib\\site-packages\\parsimonious\\grammar.py\u001b[0m in \u001b[0;36m__init__\u001b[1;34m(self, rules, **more_rules)\u001b[0m\n\u001b[0;32m     67\u001b[0m             for k, v in iteritems(more_rules)}\n\u001b[0;32m     68\u001b[0m \u001b[1;33m\u001b[0m\u001b[0m\n\u001b[1;32m---> 69\u001b[1;33m         \u001b[0mexprs\u001b[0m\u001b[1;33m,\u001b[0m \u001b[0mfirst\u001b[0m \u001b[1;33m=\u001b[0m \u001b[0mself\u001b[0m\u001b[1;33m.\u001b[0m\u001b[0m_expressions_from_rules\u001b[0m\u001b[1;33m(\u001b[0m\u001b[0mrules\u001b[0m\u001b[1;33m,\u001b[0m \u001b[0mdecorated_custom_rules\u001b[0m\u001b[1;33m)\u001b[0m\u001b[1;33m\u001b[0m\u001b[0m\n\u001b[0m\u001b[0;32m     70\u001b[0m         \u001b[0msuper\u001b[0m\u001b[1;33m(\u001b[0m\u001b[0mGrammar\u001b[0m\u001b[1;33m,\u001b[0m \u001b[0mself\u001b[0m\u001b[1;33m)\u001b[0m\u001b[1;33m.\u001b[0m\u001b[0m__init__\u001b[0m\u001b[1;33m(\u001b[0m\u001b[0mexprs\u001b[0m\u001b[1;33m.\u001b[0m\u001b[0mitems\u001b[0m\u001b[1;33m(\u001b[0m\u001b[1;33m)\u001b[0m\u001b[1;33m)\u001b[0m\u001b[1;33m\u001b[0m\u001b[0m\n\u001b[0;32m     71\u001b[0m         \u001b[0mself\u001b[0m\u001b[1;33m.\u001b[0m\u001b[0mdefault_rule\u001b[0m \u001b[1;33m=\u001b[0m \u001b[0mfirst\u001b[0m  \u001b[1;31m# may be None\u001b[0m\u001b[1;33m\u001b[0m\u001b[0m\n",
      "\u001b[1;32m~\\Anaconda364\\lib\\site-packages\\parsimonious\\grammar.py\u001b[0m in \u001b[0;36m_expressions_from_rules\u001b[1;34m(self, rules, custom_rules)\u001b[0m\n\u001b[0;32m    103\u001b[0m \u001b[1;33m\u001b[0m\u001b[0m\n\u001b[0;32m    104\u001b[0m         \"\"\"\n\u001b[1;32m--> 105\u001b[1;33m         \u001b[0mtree\u001b[0m \u001b[1;33m=\u001b[0m \u001b[0mrule_grammar\u001b[0m\u001b[1;33m.\u001b[0m\u001b[0mparse\u001b[0m\u001b[1;33m(\u001b[0m\u001b[0mrules\u001b[0m\u001b[1;33m)\u001b[0m\u001b[1;33m\u001b[0m\u001b[0m\n\u001b[0m\u001b[0;32m    106\u001b[0m         \u001b[1;32mreturn\u001b[0m \u001b[0mRuleVisitor\u001b[0m\u001b[1;33m(\u001b[0m\u001b[0mcustom_rules\u001b[0m\u001b[1;33m)\u001b[0m\u001b[1;33m.\u001b[0m\u001b[0mvisit\u001b[0m\u001b[1;33m(\u001b[0m\u001b[0mtree\u001b[0m\u001b[1;33m)\u001b[0m\u001b[1;33m\u001b[0m\u001b[0m\n\u001b[0;32m    107\u001b[0m \u001b[1;33m\u001b[0m\u001b[0m\n",
      "\u001b[1;32m~\\Anaconda364\\lib\\site-packages\\parsimonious\\grammar.py\u001b[0m in \u001b[0;36mparse\u001b[1;34m(self, text, pos)\u001b[0m\n\u001b[0;32m    113\u001b[0m         \"\"\"\n\u001b[0;32m    114\u001b[0m         \u001b[0mself\u001b[0m\u001b[1;33m.\u001b[0m\u001b[0m_check_default_rule\u001b[0m\u001b[1;33m(\u001b[0m\u001b[1;33m)\u001b[0m\u001b[1;33m\u001b[0m\u001b[0m\n\u001b[1;32m--> 115\u001b[1;33m         \u001b[1;32mreturn\u001b[0m \u001b[0mself\u001b[0m\u001b[1;33m.\u001b[0m\u001b[0mdefault_rule\u001b[0m\u001b[1;33m.\u001b[0m\u001b[0mparse\u001b[0m\u001b[1;33m(\u001b[0m\u001b[0mtext\u001b[0m\u001b[1;33m,\u001b[0m \u001b[0mpos\u001b[0m\u001b[1;33m=\u001b[0m\u001b[0mpos\u001b[0m\u001b[1;33m)\u001b[0m\u001b[1;33m\u001b[0m\u001b[0m\n\u001b[0m\u001b[0;32m    116\u001b[0m \u001b[1;33m\u001b[0m\u001b[0m\n\u001b[0;32m    117\u001b[0m     \u001b[1;32mdef\u001b[0m \u001b[0mmatch\u001b[0m\u001b[1;33m(\u001b[0m\u001b[0mself\u001b[0m\u001b[1;33m,\u001b[0m \u001b[0mtext\u001b[0m\u001b[1;33m,\u001b[0m \u001b[0mpos\u001b[0m\u001b[1;33m=\u001b[0m\u001b[1;36m0\u001b[0m\u001b[1;33m)\u001b[0m\u001b[1;33m:\u001b[0m\u001b[1;33m\u001b[0m\u001b[0m\n",
      "\u001b[1;32m~\\Anaconda364\\lib\\site-packages\\parsimonious\\expressions.py\u001b[0m in \u001b[0;36mparse\u001b[1;34m(self, text, pos)\u001b[0m\n\u001b[0;32m    120\u001b[0m         \u001b[0mnode\u001b[0m \u001b[1;33m=\u001b[0m \u001b[0mself\u001b[0m\u001b[1;33m.\u001b[0m\u001b[0mmatch\u001b[0m\u001b[1;33m(\u001b[0m\u001b[0mtext\u001b[0m\u001b[1;33m,\u001b[0m \u001b[0mpos\u001b[0m\u001b[1;33m=\u001b[0m\u001b[0mpos\u001b[0m\u001b[1;33m)\u001b[0m\u001b[1;33m\u001b[0m\u001b[0m\n\u001b[0;32m    121\u001b[0m         \u001b[1;32mif\u001b[0m \u001b[0mnode\u001b[0m\u001b[1;33m.\u001b[0m\u001b[0mend\u001b[0m \u001b[1;33m<\u001b[0m \u001b[0mlen\u001b[0m\u001b[1;33m(\u001b[0m\u001b[0mtext\u001b[0m\u001b[1;33m)\u001b[0m\u001b[1;33m:\u001b[0m\u001b[1;33m\u001b[0m\u001b[0m\n\u001b[1;32m--> 122\u001b[1;33m             \u001b[1;32mraise\u001b[0m \u001b[0mIncompleteParseError\u001b[0m\u001b[1;33m(\u001b[0m\u001b[0mtext\u001b[0m\u001b[1;33m,\u001b[0m \u001b[0mnode\u001b[0m\u001b[1;33m.\u001b[0m\u001b[0mend\u001b[0m\u001b[1;33m,\u001b[0m \u001b[0mself\u001b[0m\u001b[1;33m)\u001b[0m\u001b[1;33m\u001b[0m\u001b[0m\n\u001b[0m\u001b[0;32m    123\u001b[0m         \u001b[1;32mreturn\u001b[0m \u001b[0mnode\u001b[0m\u001b[1;33m\u001b[0m\u001b[0m\n\u001b[0;32m    124\u001b[0m \u001b[1;33m\u001b[0m\u001b[0m\n",
      "\u001b[1;31mIncompleteParseError\u001b[0m: Rule 'rules' matched in its entirety, but it didn't consume all the text. The non-matching portion of the text begins with '\\ costs\\ relative\\ i' (line 20, column 25)."
     ]
    }
   ],
   "source": [
    "starttime = time.time()\n",
    "results = hybridloop(40, 5)\n",
    "endtime = time.time()\n",
    "elapsedtime = endtime - starttime\n",
    "elapsedtime"
   ]
  },
  {
   "cell_type": "code",
   "execution_count": null,
   "metadata": {},
   "outputs": [],
   "source": [
    "results[2]['Gas Import'].plot()\n",
    "results[2]['Gas Export'].plot()"
   ]
  },
  {
   "cell_type": "code",
   "execution_count": null,
   "metadata": {
    "collapsed": true
   },
   "outputs": [],
   "source": []
  },
  {
   "cell_type": "code",
   "execution_count": null,
   "metadata": {},
   "outputs": [],
   "source": [
    "inputdictest = inputdict\n",
    "x = 10\n",
    "for value in inputdictest.values():\n",
    "    value['FINAL TIME'] = 2010\n",
    "    resultsnew.append(sd_model.run(params=value))\n",
    "    \n",
    "#     Loop start\n",
    "    \n",
    "finalvalues = []\n",
    "for singleresult in resultsnew:\n",
    "    finalvalues.append(singleresult.ix[[80], listofcolumnsresults])"
   ]
  },
  {
   "cell_type": "code",
   "execution_count": null,
   "metadata": {},
   "outputs": [],
   "source": [
    "a = time.time()\n",
    "c = 1+3\n",
    "b = time.time()\n",
    "elapsedtime = b - a\n",
    "elapsedtime"
   ]
  },
  {
   "cell_type": "code",
   "execution_count": null,
   "metadata": {
    "collapsed": true
   },
   "outputs": [],
   "source": []
  },
  {
   "cell_type": "code",
   "execution_count": null,
   "metadata": {},
   "outputs": [],
   "source": []
  }
 ],
 "metadata": {
  "kernelspec": {
   "display_name": "Python 3",
   "language": "python",
   "name": "python3"
  },
  "language_info": {
   "codemirror_mode": {
    "name": "ipython",
    "version": 3
   },
   "file_extension": ".py",
   "mimetype": "text/x-python",
   "name": "python",
   "nbconvert_exporter": "python",
   "pygments_lexer": "ipython3",
   "version": "3.7.0"
  }
 },
 "nbformat": 4,
 "nbformat_minor": 2
}
