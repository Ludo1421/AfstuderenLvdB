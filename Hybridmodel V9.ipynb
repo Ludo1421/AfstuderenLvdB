{
 "cells": [
  {
   "cell_type": "markdown",
   "metadata": {},
   "source": [
    "# Hybrid: V9\n",
    "## SD: model V13\n",
    "## NetLogo: V21\n",
    "## Python: V5"
   ]
  },
  {
   "cell_type": "code",
   "execution_count": 1,
   "metadata": {
    "collapsed": true
   },
   "outputs": [],
   "source": [
    "%matplotlib inline\n",
    "\n",
    "import numpy as np\n",
    "import pandas as pd\n",
    "import matplotlib.pyplot as plt\n",
    "import pysd\n",
    "import pyNetLogo"
   ]
  },
  {
   "cell_type": "markdown",
   "metadata": {},
   "source": [
    "# Defining the Hybridmodel"
   ]
  },
  {
   "cell_type": "code",
   "execution_count": 2,
   "metadata": {
    "collapsed": true
   },
   "outputs": [],
   "source": [
    "def runnetlogo(agent_gas, netlogo):\n",
    "    netlogo.write_NetLogo_attriblist(agent_gas[['who','GS', 'PP']], 'country')\n",
    "    netlogo.command('repeat 1 [go]')\n",
    "    \n",
    "    importA = netlogo.report('importA')\n",
    "    exportA = netlogo.report('exportA')\n",
    "    importB = netlogo.report('importB')\n",
    "    exportB = netlogo.report('exportB')\n",
    "    importC = netlogo.report('importC')\n",
    "    exportC = netlogo.report('exportC')\n",
    "    importD = netlogo.report('importD')\n",
    "    exportD = netlogo.report('exportD')\n",
    "    importE = netlogo.report('importE')\n",
    "    exportE = netlogo.report('exportE')\n",
    "    importF = netlogo.report('importF')\n",
    "    exportF = netlogo.report('exportF')\n",
    "    \n",
    "    return importA, exportA, importB, exportB, importC, exportC, importD, exportD, importE, exportE, importF, exportF"
   ]
  },
  {
   "cell_type": "code",
   "execution_count": 3,
   "metadata": {
    "collapsed": true
   },
   "outputs": [],
   "source": [
    "def updatedicts(Input, results, importtot, exporttot, x, dealtime):\n",
    "    \n",
    "    Input['\"Initial extraction capacity in preparation - Gas\"'] = results['\"Extraction capacity in preparation - Gas\"'].values[x]\n",
    "    Input['\"Initial extraction capacity - Gas\"'] = results['\"Extraction capacity installed - Gas\"'].values[x]\n",
    "    Input['\"Initial mothballed capacity - Gas\"'] = results['\"Mothballed capacity - Gas\"'].values[x]\n",
    "    Input['\"Initial Undiscovered resources - Gas\"'] = results['\"Undiscovered resources - Gas\"'].values[x]\n",
    "    Input['\"Initial reserve base - Gas\"'] = results['\"Discovered resources reserve base - Gas\"'].values[x]\n",
    "                  \n",
    "    Input['\"Initial extraction capacity in preparation - Oil\"'] = results['\"Extraction capacity in preparation - Oil\"'].values[x]\n",
    "    Input['\"Initial extraction capacity - Oil\"'] = results['\"Extraction capacity installed - Oil\"'].values[x]\n",
    "    Input['\"Initial mothballed capacity - Oil\"'] = results['\"Mothballed capacity - Oil\"'].values[x]\n",
    "    Input['\"Initial Energy stocks - Oil\"'] = results['\"Energy stocks - Oil\"'].values[x]\n",
    "    Input['\"Initial Undiscovered resources - Oil\"'] = results['\"Undiscovered resources - Oil\"'].values[x]\n",
    "    Input['\"Initial reserve base - Oil\"'] = results['\"Discovered resources reserve base - Oil\"'].values[x]\n",
    "              \n",
    "    Input['\"Initial extraction capacity in preparation - Coal\"'] = results['\"Extraction capacity in preparation - Coal\"'].values[x]\n",
    "    Input['\"Initial extraction capacity - Coal\"'] = results['\"Extraction capacity installed - Coal\"'].values[x]\n",
    "    Input['\"Initial mothballed capacity - Coal\"'] = results['\"Mothballed capacity - Coal\"'].values[x]\n",
    "    Input['\"Initial Energy stocks - Coal\"'] = results['\"Energy stocks - Coal\"'].values[x]\n",
    "    Input['\"Initial Undiscovered resources - Coal\"'] = results['\"Undiscovered resources - Coal\"'].values[x]\n",
    "    Input['\"Initial reserve base - Coal\"'] = results['\"Discovered resources reserve base - Coal\"'].values[x]\n",
    "              \n",
    "    Input['\"Initial extraction capacity in preparation- Nuclear\"'] = results['\"Extraction capacity in preparation- Nuclear\"'].values[x]\n",
    "    Input['\"Initial extraction capacity- Nuclear\"'] = results['\"Extraction capacity installed- Nuclear\"'].values[x]\n",
    "    Input['\"Initial mothballed capacity- Nuclear\"'] = results['\"Mothballed capacity- Nuclear\"'].values[x]\n",
    "              \n",
    "    Input['\"Initial extraction capacity in preparation - Biofuels\"'] = results['\"Extraction capacity in preparation - Biofuels\"'].values[x]\n",
    "    Input['\"Initial extraction capacity - Biofuels\"'] = results['\"Extraction capacity installed - Biofuels\"'].values[x]\n",
    "    Input['\"Initial mothballed capacity - Biofuels\"'] = results['\"Mothballed capacity - Biofuels\"'].values[x]\n",
    "    Input['\"Initial Energy stocks - Biofuels\"'] = results['\"Energy stocks - Biofuels\"'].values[x]\n",
    "              \n",
    "    Input['\"Initial extraction capacity in preparation - other Renewables\"'] = results['\"Extraction capacity in preparation - other Renewables\"'].values[x] \n",
    "    Input['\"Initial extraction capacity - other Renewables\"'] = results['\"Extraction capacity installed - other Renewables\"'].values[x]\n",
    "    Input['\"Initial mothballed capacity - other Renewables\"'] = results['\"Mothballed capacity - other Renewables\"'].values[x]\n",
    "           \n",
    "    Input['Initial GDP'] = results['GDP'].values[x]\n",
    "    Input['Initial Energy Intensity GDP'] = results['Energy Intensity GDP'].values[x]\n",
    "    Input['Initial Shortage Effect on Decoupling'] = results['Future Effect of Shortage on Decoupling'].values[x]\n",
    "    Input['Initial Effect of Supply Shortage on Decoupling'] = results['Effect of Supply Shortage on Decoupling'].values[x]\n",
    "\n",
    "    Input['Gas Import'] = importtot \n",
    "    Input['Gas Export'] = exporttot\n",
    "    Input['INITIAL TIME'] = results['TIME'].values[x]\n",
    "    Input['FINAL TIME'] = results['TIME'].values[x]+dealtime\n",
    "                  \n",
    "    return Input"
   ]
  },
  {
   "cell_type": "code",
   "execution_count": 4,
   "metadata": {
    "collapsed": true
   },
   "outputs": [],
   "source": [
    "def hybridloop(InputA, InputB, InputC, InputD, InputE, InputF, years, dealtime, debug):\n",
    "    model = pysd.read_vensim(\"modelV15.mdl\")\n",
    "    netlogo = pyNetLogo.NetLogoLink(gui=False)\n",
    "    netlogo.load_model(r'modelv21.nlogo')\n",
    "    netlogo.command('setup')\n",
    "    \n",
    "    InputA['FINAL TIME'] = 2010 + dealtime\n",
    "    InputB['FINAL TIME'] = 2010 + dealtime\n",
    "    InputC['FINAL TIME'] = 2010 + dealtime\n",
    "    InputD['FINAL TIME'] = 2010 + dealtime\n",
    "    InputE['FINAL TIME'] = 2010 + dealtime\n",
    "    InputF['FINAL TIME'] = 2010 + dealtime\n",
    "    \n",
    "    resultsAnew = model.run(params = InputA)\n",
    "    resultsBnew = model.run(params = InputB)\n",
    "    resultsCnew = model.run(params = InputC)\n",
    "    resultsDnew = model.run(params = InputD)\n",
    "    resultsEnew = model.run(params = InputE)\n",
    "    resultsFnew = model.run(params = InputF)\n",
    "    \n",
    "    x = dealtime*16\n",
    "\n",
    "    resultsA = resultsAnew\n",
    "    resultsB = resultsBnew\n",
    "    resultsC = resultsCnew\n",
    "    resultsD = resultsDnew\n",
    "    resultsE = resultsEnew\n",
    "    resultsF = resultsFnew\n",
    "    \n",
    "    n = dealtime\n",
    "    while n < years:\n",
    "        \n",
    "        GSA = resultsAnew['Gas to trade'].values[x]\n",
    "        GSB = resultsBnew['Gas to trade'].values[x]\n",
    "        GSC = resultsCnew['Gas to trade'].values[x]\n",
    "        GSD = resultsDnew['Gas to trade'].values[x]\n",
    "        GSE = resultsEnew['Gas to trade'].values[x]\n",
    "        GSF = resultsFnew['Gas to trade'].values[x]\n",
    "        \n",
    "        if debug > 0:\n",
    "            print(\"Years Modeled = \",n)\n",
    "            print(\"Start Netlogo\")\n",
    "            print(\"GSA = \",GSA)\n",
    "            print(\"GSB = \",GSB)\n",
    "            print(\"GSC = \",GSC)\n",
    "            print(\"GSD = \",GSD)\n",
    "            print(\"GSE = \",GSE)\n",
    "            print(\"GSF = \",GSF)\n",
    "        \n",
    "        gasdata = {'who': [0, 1, 2, 3, 4, 5],\n",
    "                  'GS': [GSA, GSB, GSC, GSD, GSE, GSF],\n",
    "                  'PP': [9, 5, 9, 10, 4, 6]}\n",
    "        \n",
    "        agent_gas = pd.DataFrame (gasdata, columns = ['who', 'GS', 'PP'])\n",
    "        \n",
    "        importA, exportA, importB, exportB, importC, exportC, importD, exportD, importE, exportE, importF, exportF = runnetlogo(agent_gas, netlogo)\n",
    "        \n",
    "        if debug > 1:\n",
    "            print(\"ImportA = \", importA)\n",
    "            print(\"ExportA = \", exportA)\n",
    "            print(\"ImportB = \", importB)\n",
    "            print(\"ExportB = \", exportB)\n",
    "            print(\"ImportC = \", importC)\n",
    "            print(\"ExportC = \", exportC)\n",
    "            print(\"ImportD = \", importD)\n",
    "            print(\"ExportD = \", exportD)\n",
    "            print(\"ImportE = \", importE)\n",
    "            print(\"ExportE = \", exportE)\n",
    "            print(\"ImportF = \", importF)\n",
    "            print(\"ExportF = \", exportF)\n",
    "            print(\"Start Vensim\")\n",
    "        \n",
    "        InputA = updatedicts(InputA, resultsAnew, importA, exportA, x, dealtime)\n",
    "        InputB = updatedicts(InputB, resultsBnew, importB, exportB, x, dealtime)\n",
    "        InputC = updatedicts(InputC, resultsCnew, importC, exportC, x, dealtime)\n",
    "        InputD = updatedicts(InputD, resultsDnew, importD, exportD, x, dealtime)\n",
    "        InputE = updatedicts(InputE, resultsEnew, importE, exportE, x, dealtime)\n",
    "        InputF = updatedicts(InputF, resultsFnew, importF, exportF, x, dealtime)\n",
    "        \n",
    "        resultsAnew = model.run(params = InputA)\n",
    "        resultsBnew = model.run(params = InputB)\n",
    "        resultsCnew = model.run(params = InputC)\n",
    "        resultsDnew = model.run(params = InputD)\n",
    "        resultsEnew = model.run(params = InputE)\n",
    "        resultsFnew = model.run(params = InputF)\n",
    "        \n",
    "        resultsA = resultsA.append(resultsAnew)\n",
    "        resultsB = resultsB.append(resultsBnew)\n",
    "        resultsC = resultsC.append(resultsCnew)\n",
    "        resultsD = resultsD.append(resultsDnew)\n",
    "        resultsE = resultsE.append(resultsEnew)\n",
    "        resultsF = resultsF.append(resultsFnew)\n",
    "           \n",
    "        n = n + dealtime\n",
    "        \n",
    "    return resultsA, resultsB, resultsC, resultsD, resultsE, resultsF"
   ]
  },
  {
   "cell_type": "markdown",
   "metadata": {},
   "source": [
    "# Defining Input"
   ]
  },
  {
   "cell_type": "code",
   "execution_count": 5,
   "metadata": {
    "collapsed": true
   },
   "outputs": [],
   "source": [
    "InputA = {'\"Initial extraction capacity in preparation - Gas\"': 0,\n",
    "        '\"Initial extraction capacity - Gas\"': 6.38386e+07,\n",
    "        '\"Initial extraction capacity in preparation - Oil\"': 0,\n",
    "        '\"Initial extraction capacity - Oil\"': 9.74533e+07,\n",
    "        '\"Initial extraction capacity in preparation - Coal\"': 0,\n",
    "        '\"Initial extraction capacity - Coal\"': 1.90307e+07,\n",
    "        '\"Initial extraction capacity in preparation- Nuclear\"': 0,\n",
    "        '\"Initial extraction capacity- Nuclear\"': 1.134e+07,\n",
    "        '\"Initial extraction capacity in preparation - Biofuels\"': 64010,\n",
    "        '\"Initial extraction capacity - Biofuels\"': 674000,\n",
    "        '\"Initial extraction capacity in preparation - other Renewables\"': 3.105e+06,\n",
    "        '\"Initial extraction capacity - other Renewables\"': 1.203e+07,\n",
    "           \n",
    "        'Initial GDP': 2.06942e+13,\n",
    "        'Initial Energy Intensity GDP': 1/157500,\n",
    "        'Initial Shortage Effect on Decoupling': 0,\n",
    "          \n",
    "        'Gas Import': 0,\n",
    "        'Gas Export': 0}\n",
    "\n",
    "InputB = {'\"Initial extraction capacity in preparation - Gas\"': 0,\n",
    "        '\"Initial extraction capacity - Gas\"': 6.38386e+07,\n",
    "        '\"Initial extraction capacity in preparation - Oil\"': 0,\n",
    "        '\"Initial extraction capacity - Oil\"': 9.74533e+07,\n",
    "        '\"Initial extraction capacity in preparation - Coal\"': 0,\n",
    "        '\"Initial extraction capacity - Coal\"': 1.90307e+07,\n",
    "        '\"Initial extraction capacity in preparation- Nuclear\"': 0,\n",
    "        '\"Initial extraction capacity- Nuclear\"': 1.134e+02,\n",
    "        '\"Initial extraction capacity in preparation - Biofuels\"': 64010,\n",
    "        '\"Initial extraction capacity - Biofuels\"': 674000,\n",
    "        '\"Initial extraction capacity in preparation - other Renewables\"': 3.105e+06,\n",
    "        '\"Initial extraction capacity - other Renewables\"': 1.203e+07,\n",
    "           \n",
    "        'Initial GDP': 2.06942e+13,\n",
    "        'Initial Energy Intensity GDP': 1/157500,\n",
    "        'Initial Shortage Effect on Decoupling': 0,\n",
    "          \n",
    "        'Gas Import': 0,\n",
    "        'Gas Export': 0}\n",
    "\n",
    "InputC = {'\"Initial extraction capacity in preparation - Gas\"': 0,\n",
    "        '\"Initial extraction capacity - Gas\"': 6.38386e+04,\n",
    "        '\"Initial extraction capacity in preparation - Oil\"': 0,\n",
    "        '\"Initial extraction capacity - Oil\"': 9.74533e+07,\n",
    "        '\"Initial extraction capacity in preparation - Coal\"': 0,\n",
    "        '\"Initial extraction capacity - Coal\"': 1.90307e+07,\n",
    "        '\"Initial extraction capacity in preparation- Nuclear\"': 0,\n",
    "        '\"Initial extraction capacity- Nuclear\"': 1.134e+07,\n",
    "        '\"Initial extraction capacity in preparation - Biofuels\"': 64010,\n",
    "        '\"Initial extraction capacity - Biofuels\"': 674000,\n",
    "        '\"Initial extraction capacity in preparation - other Renewables\"': 3.105e+06,\n",
    "        '\"Initial extraction capacity - other Renewables\"': 1.203e+07,\n",
    "           \n",
    "        'Initial GDP': 2.06942e+11,\n",
    "        'Initial Energy Intensity GDP': 1/157500,\n",
    "        'Initial Shortage Effect on Decoupling': 0,\n",
    "          \n",
    "        'Gas Import': 0,\n",
    "        'Gas Export': 0}\n",
    "\n",
    "InputD = {'\"Initial extraction capacity in preparation - Gas\"': 0,\n",
    "        '\"Initial extraction capacity - Gas\"': 6.38386e+07,\n",
    "        '\"Initial extraction capacity in preparation - Oil\"': 0,\n",
    "        '\"Initial extraction capacity - Oil\"': 9.74533e+07,\n",
    "        '\"Initial extraction capacity in preparation - Coal\"': 0,\n",
    "        '\"Initial extraction capacity - Coal\"': 1.90307e+07,\n",
    "        '\"Initial extraction capacity in preparation- Nuclear\"': 0,\n",
    "        '\"Initial extraction capacity- Nuclear\"': 1.134e+07,\n",
    "        '\"Initial extraction capacity in preparation - Biofuels\"': 64010,\n",
    "        '\"Initial extraction capacity - Biofuels\"': 674000,\n",
    "        '\"Initial extraction capacity in preparation - other Renewables\"': 3.105e+06,\n",
    "        '\"Initial extraction capacity - other Renewables\"': 1.203e+07,\n",
    "           \n",
    "        'Initial GDP': 2.06942e+13,\n",
    "        'Initial Energy Intensity GDP': 1/157500,\n",
    "        'Initial Shortage Effect on Decoupling': 0,\n",
    "          \n",
    "        'Gas Import': 0,\n",
    "        'Gas Export': 0}\n",
    "\n",
    "InputE = {'\"Initial extraction capacity in preparation - Gas\"': 0,\n",
    "        '\"Initial extraction capacity - Gas\"': 6.38386e+07,\n",
    "        '\"Initial extraction capacity in preparation - Oil\"': 0,\n",
    "        '\"Initial extraction capacity - Oil\"': 9.74533e+07,\n",
    "        '\"Initial extraction capacity in preparation - Coal\"': 0,\n",
    "        '\"Initial extraction capacity - Coal\"': 1.90307e+07,\n",
    "        '\"Initial extraction capacity in preparation- Nuclear\"': 0,\n",
    "        '\"Initial extraction capacity- Nuclear\"': 1.134e+07,\n",
    "        '\"Initial extraction capacity in preparation - Biofuels\"': 64010,\n",
    "        '\"Initial extraction capacity - Biofuels\"': 674000,\n",
    "        '\"Initial extraction capacity in preparation - other Renewables\"': 3.105e+06,\n",
    "        '\"Initial extraction capacity - other Renewables\"': 1.203e+07,\n",
    "           \n",
    "        'Initial GDP': 2.06942e+13,\n",
    "        'Initial Energy Intensity GDP': 1/157500,\n",
    "        'Initial Shortage Effect on Decoupling': 0,\n",
    "          \n",
    "        'Gas Import': 0,\n",
    "        'Gas Export': 0}\n",
    "\n",
    "InputF = {'\"Initial extraction capacity in preparation - Gas\"': 0,\n",
    "        '\"Initial extraction capacity - Gas\"': 6.38386e+07,\n",
    "        '\"Initial extraction capacity in preparation - Oil\"': 0,\n",
    "        '\"Initial extraction capacity - Oil\"': 9.74533e+07,\n",
    "        '\"Initial extraction capacity in preparation - Coal\"': 0,\n",
    "        '\"Initial extraction capacity - Coal\"': 1.90307e+07,\n",
    "        '\"Initial extraction capacity in preparation- Nuclear\"': 0,\n",
    "        '\"Initial extraction capacity- Nuclear\"': 1.134e+07,\n",
    "        '\"Initial extraction capacity in preparation - Biofuels\"': 64010,\n",
    "        '\"Initial extraction capacity - Biofuels\"': 674000,\n",
    "        '\"Initial extraction capacity in preparation - other Renewables\"': 3.105e+06,\n",
    "        '\"Initial extraction capacity - other Renewables\"': 1.203e+07,\n",
    "           \n",
    "        'Initial GDP': 2.06942e+13,\n",
    "        'Initial Energy Intensity GDP': 1/157500,\n",
    "        'Initial Shortage Effect on Decoupling': 0,\n",
    "          \n",
    "        'Gas Import': 0,\n",
    "        'Gas Export': 0}"
   ]
  },
  {
   "cell_type": "code",
   "execution_count": 6,
   "metadata": {
    "collapsed": true
   },
   "outputs": [],
   "source": [
    "Inputall = {'InputA', 'InputB'}"
   ]
  },
  {
   "cell_type": "code",
   "execution_count": 7,
   "metadata": {},
   "outputs": [
    {
     "data": {
      "text/plain": [
       "{'InputA', 'InputB'}"
      ]
     },
     "execution_count": 7,
     "metadata": {},
     "output_type": "execute_result"
    }
   ],
   "source": [
    "Inputall"
   ]
  },
  {
   "cell_type": "markdown",
   "metadata": {},
   "source": [
    "# Running the Model"
   ]
  },
  {
   "cell_type": "code",
   "execution_count": 8,
   "metadata": {
    "scrolled": true
   },
   "outputs": [
    {
     "name": "stderr",
     "output_type": "stream",
     "text": [
      "modelV15.py:1399: RuntimeWarning: invalid value encountered in double_scalars\n",
      "  cumulative_extracted_fuel_t1__other_renewables())**experience_curve_parameter_extraction()\n",
      "modelV15.py:807: RuntimeWarning: overflow encountered in double_scalars\n",
      "  relative_potential_eroei__other_renewables()\n",
      "C:\\Users\\ludov\\Anaconda32\\lib\\site-packages\\pysd\\functions.py:345: RuntimeWarning: invalid value encountered in double_scalars\n",
      "  return numerator*1.0/denominator\n",
      "modelV15.py:1385: RuntimeWarning: invalid value encountered in double_scalars\n",
      "  ) * (cumulative_extracted_fuel__biofuels() / cumulative_extracted_fuel_t1__biofuels())**experience_curve_parameter_extraction()\n"
     ]
    }
   ],
   "source": [
    "resultsA, resultsB, resultsC, resultsD, resultsE, resultsF = hybridloop(InputA, InputB, InputC, InputD, InputE, InputF, 40, 5,0)"
   ]
  },
  {
   "cell_type": "code",
   "execution_count": 13,
   "metadata": {},
   "outputs": [
    {
     "data": {
      "text/plain": [
       "<matplotlib.axes._subplots.AxesSubplot at 0xdf921b0>"
      ]
     },
     "execution_count": 13,
     "metadata": {},
     "output_type": "execute_result"
    },
    {
     "data": {
      "image/png": "[encoded data removed]",
      "text/plain": [
       "<matplotlib.figure.Figure at 0xdf84a30>"
      ]
     },
     "metadata": {},
     "output_type": "display_data"
    }
   ],
   "source": [
    "resultsA['Total Energy Supply'].plot()\n",
    "resultsB['Total Energy Supply'].plot()\n",
    "resultsC['Total Energy Supply'].plot()\n",
    "resultsD['Total Energy Supply'].plot()\n",
    "resultsE['Total Energy Supply'].plot()\n",
    "resultsF['Total Energy Supply'].plot()"
   ]
  },
  {
   "cell_type": "code",
   "execution_count": 12,
   "metadata": {
    "scrolled": false
   },
   "outputs": [
    {
     "data": {
      "text/plain": [
       "<matplotlib.axes._subplots.AxesSubplot at 0xea37b70>"
      ]
     },
     "execution_count": 12,
     "metadata": {},
     "output_type": "execute_result"
    },
    {
     "data": {
      "image/png": "[encoded data removed]",
      "text/plain": [
       "<matplotlib.figure.Figure at 0xe1a83f0>"
      ]
     },
     "metadata": {},
     "output_type": "display_data"
    }
   ],
   "source": [
    "resultsA['Energy Demand'].plot()\n",
    "resultsB['Energy Demand'].plot()\n",
    "resultsC['Energy Demand'].plot()\n",
    "resultsD['Energy Demand'].plot()\n",
    "resultsE['Energy Demand'].plot()\n",
    "resultsF['Energy Demand'].plot()"
   ]
  },
  {
   "cell_type": "code",
   "execution_count": null,
   "metadata": {
    "collapsed": true
   },
   "outputs": [],
   "source": []
  }
 ],
 "metadata": {
  "kernelspec": {
   "display_name": "Python 3",
   "language": "python",
   "name": "python3"
  },
  "language_info": {
   "codemirror_mode": {
    "name": "ipython",
    "version": 3
   },
   "file_extension": ".py",
   "mimetype": "text/x-python",
   "name": "python",
   "nbconvert_exporter": "python",
   "pygments_lexer": "ipython3",
   "version": "3.6.0"
  }
 },
 "nbformat": 4,
 "nbformat_minor": 2
}
